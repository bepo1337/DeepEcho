{
 "cells": [
  {
   "cell_type": "code",
   "id": "initial_id",
   "metadata": {
    "collapsed": true,
    "ExecuteTime": {
     "end_time": "2025-04-25T12:37:51.790404Z",
     "start_time": "2025-04-25T12:37:51.631775Z"
    }
   },
   "source": [
    "import pandas as pd\n",
    "df = pd.read_json(\"../data/real_data_test_pre.json\")"
   ],
   "outputs": [],
   "execution_count": 3
  },
  {
   "metadata": {
    "ExecuteTime": {
     "end_time": "2025-04-25T12:39:19.197511Z",
     "start_time": "2025-04-25T12:39:19.188213Z"
    }
   },
   "cell_type": "code",
   "source": [
    "# add sequence index by adding the date back together. This will later on not be generated\n",
    "df['validity_start'] = pd.to_datetime(\n",
    "    df.rename(columns={\n",
    "        'validity_start_year': 'year',\n",
    "        'validity_start_month': 'month',\n",
    "        'validity_start_day': 'day'\n",
    "    })[['year', 'month', 'day']]\n",
    ")"
   ],
   "id": "ce7a8dadb4247e96",
   "outputs": [],
   "execution_count": 8
  },
  {
   "metadata": {
    "ExecuteTime": {
     "end_time": "2025-04-25T13:56:23.392735Z",
     "start_time": "2025-04-25T13:56:23.386691Z"
    }
   },
   "cell_type": "code",
   "source": [
    "categorical = \"categorical\"\n",
    "count = \"count\"\n",
    "continuous = \"continuous\"\n",
    "entity_columns = [\"player_id\"]\n",
    "sequence_index = \"validity_start\"\n",
    "context_columns = [\"first_name\", \"last_name\", \"pseudonym\", \"position\", \"foot\", \"citizenship\", \"height\", ]\n",
    "\n",
    "data_types = {\n",
    "    \"injury_category\": categorical,\n",
    "    \"market_value_category\": categorical,\n",
    "    \"age\": count,\n",
    "    \"coach_id\": categorical,\n",
    "    \"club_id\": categorical,\n",
    "    \"league_id\": categorical,\n",
    "    \"club\": categorical,\n",
    "    \"league\": categorical,\n",
    "    \"season_id\": count,\n",
    "    \"injury\": categorical,\n",
    "    \"last_transfer_fee\": count,\n",
    "    \"coach\": categorical,\n",
    "    \"market_value\": continuous,\n",
    "    \"league_played_matches\": count,\n",
    "     \"league_minutes_played\": count,\n",
    "    \"league_goals\": count,\n",
    "    \"international_goals\": count,\n",
    "    \"international_minutes_played\": count,\n",
    "    \"international_playd_matches\": count,\n",
    "    \"international_competition\": categorical,\n",
    "    \"missed_matches\": count,\n",
    "    \"validity_start_year\": categorical,\n",
    "    \"validity_start_month\": categorical,\n",
    "    \"validity_start_day\": categorical,\n",
    "    \"validity_end_year\": categorical,\n",
    "    \"validity_end_month\": categorical,\n",
    "    \"validity_end_day\": categorical,\n",
    "    \"date_of_birth_year\": categorical,\n",
    "    \"date_of_birth_month\": categorical,\n",
    "    \"date_of_birth_day\": categorical,\n",
    "    \"reason_regular_interval\": categorical,\n",
    "    \"reason_new_coach\": categorical,\n",
    "    \"reason_transfer\": categorical,\n",
    "    \"reason_market_value_update\": categorical,\n",
    "    \"reason_injury\": categorical,\n",
    "    \"reason_injury_end\": categorical\n",
    "}"
   ],
   "id": "b11965811be867c3",
   "outputs": [],
   "execution_count": 9
  },
  {
   "metadata": {
    "ExecuteTime": {
     "end_time": "2025-04-25T14:13:59.889885Z",
     "start_time": "2025-04-25T13:56:32.895006Z"
    }
   },
   "cell_type": "code",
   "source": [
    "from deepecho import PARModel\n",
    "\n",
    "model = PARModel(epochs=1024, cuda=False)\n",
    "model.fit(\n",
    "    data=df,\n",
    "    entity_columns=entity_columns,\n",
    "    context_columns=context_columns,\n",
    "    data_types=data_types,\n",
    "    sequence_index=sequence_index,\n",
    ")\n",
    "model.sample(5)"
   ],
   "id": "399857633a21493d",
   "outputs": [
    {
     "name": "stderr",
     "output_type": "stream",
     "text": [
      "Loss (3004.949):   3%|▎         | 31/1024 [17:23<9:16:53, 33.65s/it]\n"
     ]
    },
    {
     "ename": "KeyboardInterrupt",
     "evalue": "",
     "output_type": "error",
     "traceback": [
      "\u001B[0;31m---------------------------------------------------------------------------\u001B[0m",
      "\u001B[0;31mKeyboardInterrupt\u001B[0m                         Traceback (most recent call last)",
      "Cell \u001B[0;32mIn[10], line 4\u001B[0m\n\u001B[1;32m      1\u001B[0m \u001B[38;5;28;01mfrom\u001B[39;00m\u001B[38;5;250m \u001B[39m\u001B[38;5;21;01mdeepecho\u001B[39;00m\u001B[38;5;250m \u001B[39m\u001B[38;5;28;01mimport\u001B[39;00m PARModel\n\u001B[1;32m      3\u001B[0m model \u001B[38;5;241m=\u001B[39m PARModel(epochs\u001B[38;5;241m=\u001B[39m\u001B[38;5;241m1024\u001B[39m, cuda\u001B[38;5;241m=\u001B[39m\u001B[38;5;28;01mFalse\u001B[39;00m)\n\u001B[0;32m----> 4\u001B[0m \u001B[43mmodel\u001B[49m\u001B[38;5;241;43m.\u001B[39;49m\u001B[43mfit\u001B[49m\u001B[43m(\u001B[49m\n\u001B[1;32m      5\u001B[0m \u001B[43m    \u001B[49m\u001B[43mdata\u001B[49m\u001B[38;5;241;43m=\u001B[39;49m\u001B[43mdf\u001B[49m\u001B[43m,\u001B[49m\n\u001B[1;32m      6\u001B[0m \u001B[43m    \u001B[49m\u001B[43mentity_columns\u001B[49m\u001B[38;5;241;43m=\u001B[39;49m\u001B[43mentity_columns\u001B[49m\u001B[43m,\u001B[49m\n\u001B[1;32m      7\u001B[0m \u001B[43m    \u001B[49m\u001B[43mcontext_columns\u001B[49m\u001B[38;5;241;43m=\u001B[39;49m\u001B[43mcontext_columns\u001B[49m\u001B[43m,\u001B[49m\n\u001B[1;32m      8\u001B[0m \u001B[43m    \u001B[49m\u001B[43mdata_types\u001B[49m\u001B[38;5;241;43m=\u001B[39;49m\u001B[43mdata_types\u001B[49m\u001B[43m,\u001B[49m\n\u001B[1;32m      9\u001B[0m \u001B[43m    \u001B[49m\u001B[43msequence_index\u001B[49m\u001B[38;5;241;43m=\u001B[39;49m\u001B[43msequence_index\u001B[49m\u001B[43m,\u001B[49m\n\u001B[1;32m     10\u001B[0m \u001B[43m)\u001B[49m\n\u001B[1;32m     11\u001B[0m model\u001B[38;5;241m.\u001B[39msample(\u001B[38;5;241m5\u001B[39m)\n",
      "File \u001B[0;32m~/git/uni/DeepEcho/deepecho/models/base.py:185\u001B[0m, in \u001B[0;36mDeepEcho.fit\u001B[0;34m(self, data, entity_columns, context_columns, data_types, segment_size, sequence_index)\u001B[0m\n\u001B[1;32m    183\u001B[0m \u001B[38;5;66;03m# Validate and fit\u001B[39;00m\n\u001B[1;32m    184\u001B[0m \u001B[38;5;28mself\u001B[39m\u001B[38;5;241m.\u001B[39m_validate(sequences, context_types, data_types)\n\u001B[0;32m--> 185\u001B[0m \u001B[38;5;28;43mself\u001B[39;49m\u001B[38;5;241;43m.\u001B[39;49m\u001B[43mfit_sequences\u001B[49m\u001B[43m(\u001B[49m\u001B[43msequences\u001B[49m\u001B[43m,\u001B[49m\u001B[43m \u001B[49m\u001B[43mcontext_types\u001B[49m\u001B[43m,\u001B[49m\u001B[43m \u001B[49m\u001B[43mdata_types\u001B[49m\u001B[43m)\u001B[49m\n\u001B[1;32m    187\u001B[0m \u001B[38;5;66;03m# Store context values\u001B[39;00m\n\u001B[1;32m    188\u001B[0m \u001B[38;5;28mself\u001B[39m\u001B[38;5;241m.\u001B[39m_context_values \u001B[38;5;241m=\u001B[39m data[\u001B[38;5;28mself\u001B[39m\u001B[38;5;241m.\u001B[39m_context_columns]\n",
      "File \u001B[0;32m~/git/uni/DeepEcho/deepecho/models/par.py:352\u001B[0m, in \u001B[0;36mPARModel.fit_sequences\u001B[0;34m(self, sequences, context_types, data_types)\u001B[0m\n\u001B[1;32m    350\u001B[0m optimizer\u001B[38;5;241m.\u001B[39mzero_grad()\n\u001B[1;32m    351\u001B[0m loss \u001B[38;5;241m=\u001B[39m \u001B[38;5;28mself\u001B[39m\u001B[38;5;241m.\u001B[39m_compute_loss(X_padded[\u001B[38;5;241m1\u001B[39m:, :, :], Y_padded[:\u001B[38;5;241m-\u001B[39m\u001B[38;5;241m1\u001B[39m, :, :], seq_len)\n\u001B[0;32m--> 352\u001B[0m \u001B[43mloss\u001B[49m\u001B[38;5;241;43m.\u001B[39;49m\u001B[43mbackward\u001B[49m\u001B[43m(\u001B[49m\u001B[43m)\u001B[49m\n\u001B[1;32m    354\u001B[0m epoch_loss_df \u001B[38;5;241m=\u001B[39m pd\u001B[38;5;241m.\u001B[39mDataFrame({\n\u001B[1;32m    355\u001B[0m     \u001B[38;5;124m'\u001B[39m\u001B[38;5;124mEpoch\u001B[39m\u001B[38;5;124m'\u001B[39m: [epoch],\n\u001B[1;32m    356\u001B[0m     \u001B[38;5;124m'\u001B[39m\u001B[38;5;124mLoss\u001B[39m\u001B[38;5;124m'\u001B[39m: [loss\u001B[38;5;241m.\u001B[39mitem()],\n\u001B[1;32m    357\u001B[0m })\n\u001B[1;32m    358\u001B[0m \u001B[38;5;28;01mif\u001B[39;00m \u001B[38;5;129;01mnot\u001B[39;00m \u001B[38;5;28mself\u001B[39m\u001B[38;5;241m.\u001B[39mloss_values\u001B[38;5;241m.\u001B[39mempty:\n",
      "File \u001B[0;32m~/git/uni/DeepEcho/.venv/lib/python3.9/site-packages/torch/_tensor.py:626\u001B[0m, in \u001B[0;36mTensor.backward\u001B[0;34m(self, gradient, retain_graph, create_graph, inputs)\u001B[0m\n\u001B[1;32m    616\u001B[0m \u001B[38;5;28;01mif\u001B[39;00m has_torch_function_unary(\u001B[38;5;28mself\u001B[39m):\n\u001B[1;32m    617\u001B[0m     \u001B[38;5;28;01mreturn\u001B[39;00m handle_torch_function(\n\u001B[1;32m    618\u001B[0m         Tensor\u001B[38;5;241m.\u001B[39mbackward,\n\u001B[1;32m    619\u001B[0m         (\u001B[38;5;28mself\u001B[39m,),\n\u001B[0;32m   (...)\u001B[0m\n\u001B[1;32m    624\u001B[0m         inputs\u001B[38;5;241m=\u001B[39minputs,\n\u001B[1;32m    625\u001B[0m     )\n\u001B[0;32m--> 626\u001B[0m \u001B[43mtorch\u001B[49m\u001B[38;5;241;43m.\u001B[39;49m\u001B[43mautograd\u001B[49m\u001B[38;5;241;43m.\u001B[39;49m\u001B[43mbackward\u001B[49m\u001B[43m(\u001B[49m\n\u001B[1;32m    627\u001B[0m \u001B[43m    \u001B[49m\u001B[38;5;28;43mself\u001B[39;49m\u001B[43m,\u001B[49m\u001B[43m \u001B[49m\u001B[43mgradient\u001B[49m\u001B[43m,\u001B[49m\u001B[43m \u001B[49m\u001B[43mretain_graph\u001B[49m\u001B[43m,\u001B[49m\u001B[43m \u001B[49m\u001B[43mcreate_graph\u001B[49m\u001B[43m,\u001B[49m\u001B[43m \u001B[49m\u001B[43minputs\u001B[49m\u001B[38;5;241;43m=\u001B[39;49m\u001B[43minputs\u001B[49m\n\u001B[1;32m    628\u001B[0m \u001B[43m\u001B[49m\u001B[43m)\u001B[49m\n",
      "File \u001B[0;32m~/git/uni/DeepEcho/.venv/lib/python3.9/site-packages/torch/autograd/__init__.py:347\u001B[0m, in \u001B[0;36mbackward\u001B[0;34m(tensors, grad_tensors, retain_graph, create_graph, grad_variables, inputs)\u001B[0m\n\u001B[1;32m    342\u001B[0m     retain_graph \u001B[38;5;241m=\u001B[39m create_graph\n\u001B[1;32m    344\u001B[0m \u001B[38;5;66;03m# The reason we repeat the same comment below is that\u001B[39;00m\n\u001B[1;32m    345\u001B[0m \u001B[38;5;66;03m# some Python versions print out the first line of a multi-line function\u001B[39;00m\n\u001B[1;32m    346\u001B[0m \u001B[38;5;66;03m# calls in the traceback and some print out the last line\u001B[39;00m\n\u001B[0;32m--> 347\u001B[0m \u001B[43m_engine_run_backward\u001B[49m\u001B[43m(\u001B[49m\n\u001B[1;32m    348\u001B[0m \u001B[43m    \u001B[49m\u001B[43mtensors\u001B[49m\u001B[43m,\u001B[49m\n\u001B[1;32m    349\u001B[0m \u001B[43m    \u001B[49m\u001B[43mgrad_tensors_\u001B[49m\u001B[43m,\u001B[49m\n\u001B[1;32m    350\u001B[0m \u001B[43m    \u001B[49m\u001B[43mretain_graph\u001B[49m\u001B[43m,\u001B[49m\n\u001B[1;32m    351\u001B[0m \u001B[43m    \u001B[49m\u001B[43mcreate_graph\u001B[49m\u001B[43m,\u001B[49m\n\u001B[1;32m    352\u001B[0m \u001B[43m    \u001B[49m\u001B[43minputs\u001B[49m\u001B[43m,\u001B[49m\n\u001B[1;32m    353\u001B[0m \u001B[43m    \u001B[49m\u001B[43mallow_unreachable\u001B[49m\u001B[38;5;241;43m=\u001B[39;49m\u001B[38;5;28;43;01mTrue\u001B[39;49;00m\u001B[43m,\u001B[49m\n\u001B[1;32m    354\u001B[0m \u001B[43m    \u001B[49m\u001B[43maccumulate_grad\u001B[49m\u001B[38;5;241;43m=\u001B[39;49m\u001B[38;5;28;43;01mTrue\u001B[39;49;00m\u001B[43m,\u001B[49m\n\u001B[1;32m    355\u001B[0m \u001B[43m\u001B[49m\u001B[43m)\u001B[49m\n",
      "File \u001B[0;32m~/git/uni/DeepEcho/.venv/lib/python3.9/site-packages/torch/autograd/graph.py:823\u001B[0m, in \u001B[0;36m_engine_run_backward\u001B[0;34m(t_outputs, *args, **kwargs)\u001B[0m\n\u001B[1;32m    821\u001B[0m     unregister_hooks \u001B[38;5;241m=\u001B[39m _register_logging_hooks_on_whole_graph(t_outputs)\n\u001B[1;32m    822\u001B[0m \u001B[38;5;28;01mtry\u001B[39;00m:\n\u001B[0;32m--> 823\u001B[0m     \u001B[38;5;28;01mreturn\u001B[39;00m \u001B[43mVariable\u001B[49m\u001B[38;5;241;43m.\u001B[39;49m\u001B[43m_execution_engine\u001B[49m\u001B[38;5;241;43m.\u001B[39;49m\u001B[43mrun_backward\u001B[49m\u001B[43m(\u001B[49m\u001B[43m  \u001B[49m\u001B[38;5;66;43;03m# Calls into the C++ engine to run the backward pass\u001B[39;49;00m\n\u001B[1;32m    824\u001B[0m \u001B[43m        \u001B[49m\u001B[43mt_outputs\u001B[49m\u001B[43m,\u001B[49m\u001B[43m \u001B[49m\u001B[38;5;241;43m*\u001B[39;49m\u001B[43margs\u001B[49m\u001B[43m,\u001B[49m\u001B[43m \u001B[49m\u001B[38;5;241;43m*\u001B[39;49m\u001B[38;5;241;43m*\u001B[39;49m\u001B[43mkwargs\u001B[49m\n\u001B[1;32m    825\u001B[0m \u001B[43m    \u001B[49m\u001B[43m)\u001B[49m  \u001B[38;5;66;03m# Calls into the C++ engine to run the backward pass\u001B[39;00m\n\u001B[1;32m    826\u001B[0m \u001B[38;5;28;01mfinally\u001B[39;00m:\n\u001B[1;32m    827\u001B[0m     \u001B[38;5;28;01mif\u001B[39;00m attach_logging_hooks:\n",
      "\u001B[0;31mKeyboardInterrupt\u001B[0m: "
     ]
    }
   ],
   "execution_count": 10
  }
 ],
 "metadata": {
  "kernelspec": {
   "display_name": "Python 3",
   "language": "python",
   "name": "python3"
  },
  "language_info": {
   "codemirror_mode": {
    "name": "ipython",
    "version": 2
   },
   "file_extension": ".py",
   "mimetype": "text/x-python",
   "name": "python",
   "nbconvert_exporter": "python",
   "pygments_lexer": "ipython2",
   "version": "2.7.6"
  }
 },
 "nbformat": 4,
 "nbformat_minor": 5
}
